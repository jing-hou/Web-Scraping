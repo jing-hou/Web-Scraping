{
 "cells": [
  {
   "cell_type": "code",
   "execution_count": null,
   "metadata": {},
   "outputs": [],
   "source": [
    "\n",
    "from bs4 import BeautifulSoup # For HTML parsing\n",
    "import requests # Website connections\n",
    "from time import sleep # To prevent overwhelming the server between connections\n",
    "from collections import Counter # Keep track of our term counts\n",
    "import pandas as pd # For converting results to a dataframe and bar chart plots\n",
    "import json # For parsing json\n",
    "%matplotlib inline\n",
    "from selenium import webdriver\n",
    "from selenium.webdriver.common.keys import Keys"
   ]
  },
  {
   "cell_type": "code",
   "execution_count": null,
   "metadata": {},
   "outputs": [],
   "source": [
    "driver = webdriver.Chrome('C:/Users/Minglin886/Downloads/chromedriver_win32/chromedriver.exe')"
   ]
  },
  {
   "cell_type": "code",
   "execution_count": null,
   "metadata": {},
   "outputs": [],
   "source": [
    "driver1 = webdriver.Chrome('C:/Users/Minglin886/Downloads/chromedriver_win32/chromedriver.exe')"
   ]
  },
  {
   "cell_type": "code",
   "execution_count": null,
   "metadata": {},
   "outputs": [],
   "source": [
    "driver.get(\"https://prod.education.gouv.qc.ca/gdunojrecherche/rechercheOrganisme.do?methode=afficherResultatBase&typeRecherche=base\")"
   ]
  },
  {
   "cell_type": "code",
   "execution_count": null,
   "metadata": {},
   "outputs": [],
   "source": [
    "driver.find_element_by_xpath(\"//select[@name='codeOrdreEnseignementAppartenance']/option[@value='educationPPS']\").click()"
   ]
  },
  {
   "cell_type": "code",
   "execution_count": null,
   "metadata": {},
   "outputs": [],
   "source": [
    "driver.find_element_by_id(\"ordreDispensePrimaire\").click()\n",
    "driver.find_element_by_id(\"ordreDispenseSecondaire\").click()\n",
    "driver.find_element_by_id(\"proprieteVide7\").click()"
   ]
  },
  {
   "cell_type": "code",
   "execution_count": null,
   "metadata": {},
   "outputs": [],
   "source": [
    "for i in range(1,182):\n",
    "    if (i==1):\n",
    "        list_t=[]\n",
    "    #each page\n",
    "    source= driver.page_source\n",
    "    soup = BeautifulSoup(source)\n",
    "    oddlink=[tag.a.get('href') for tag in soup.find_all('tr',class_='couleurpair')]\n",
    "    evenlink=[tag.a.get('href') for tag in soup.find_all('tr',class_='couleurimpair')]\n",
    "    x=0\n",
    "    y=0\n",
    "    for odd in oddlink:\n",
    "        driver1.get(f'https://prod.education.gouv.qc.ca/gdunojrecherche/{odd}')\n",
    "        response= driver1.page_source\n",
    "        soupodd= BeautifulSoup(response)\n",
    "        step1= soupodd.find('table',class_='tableaffichageVerticalIE')\n",
    "        seperated=step1.find_all('td')[1].get_text(separator='|br|', strip=True).split('|br|')\n",
    "        address=\" \".join(seperated[:-1])\n",
    "        citypostcode=seperated[-1].split('\\xa0\\xa0')\n",
    "        city=citypostcode[0]\n",
    "        postcode=citypostcode[1]\n",
    "        name= soupodd.find('h2', style=\"background-color: #EEEBF2;\").text.strip()\n",
    "        clas= [tag.get_text(strip= True) for tag in soupodd.find_all('td',class_='couleurCellule')]           \n",
    "        school_board= clas[-5]\n",
    "        level=clas[-4]\n",
    "        code=clas[-1]\n",
    "        list_t.append((address,city,postcode,name,school_board,level,code))\n",
    "        x+=1\n",
    "        print(f'odd{x}')\n",
    "    for even in evenlink:\n",
    "        driver1.get(f'https://prod.education.gouv.qc.ca/gdunojrecherche/{even}')\n",
    "        response= driver1.page_source\n",
    "        soupeven= BeautifulSoup(response)\n",
    "        step1= soupeven.find('table',class_='tableaffichageVerticalIE')\n",
    "        seperated=step1.find_all('td')[1].get_text(separator='|br|', strip=True).split('|br|')\n",
    "        address=\" \".join(seperated[:-1])\n",
    "        citypostcode=seperated[-1].split('\\xa0\\xa0')\n",
    "        city=citypostcode[0]\n",
    "        postcode=citypostcode[1]\n",
    "        name= soupeven.find('h2', style=\"background-color: #EEEBF2;\").text.strip()\n",
    "        clas= [tag.get_text(strip= True) for tag in soupeven.find_all('td',class_='couleurCellule')]\n",
    "        school_board= clas[-5]\n",
    "        level=clas[-4]\n",
    "        code=clas[-1]\n",
    "        list_t.append((address,city,postcode,name,school_board,level,code))\n",
    "        y+=1\n",
    "        print(f'even{y}')\n",
    "    if ((i%20)==0) or (i==len(range(1,182))):##i==181-----break\n",
    "        \n",
    "        df= pd.DataFrame(list_t, columns=['address','city','postcode','name','school_board','level','code'])\n",
    "        # to csv \n",
    "        df.to_csv(f'test_q{i}.csv', sep=',',index=False,encoding='utf-8-sig')\n",
    "        if i==len(range(1,182)):\n",
    "            break\n",
    "        list_t=[]\n",
    "    img= driver.find_element_by_xpath(\"//*[@id='bt_suivant']\")\n",
    "    img.find_element_by_xpath('..').click()\n",
    "    sleep(2)\n",
    "    \n",
    "    "
   ]
  },
  {
   "cell_type": "code",
   "execution_count": null,
   "metadata": {},
   "outputs": [],
   "source": []
  },
  {
   "cell_type": "code",
   "execution_count": null,
   "metadata": {},
   "outputs": [],
   "source": []
  },
  {
   "cell_type": "code",
   "execution_count": null,
   "metadata": {},
   "outputs": [],
   "source": []
  }
 ],
 "metadata": {
  "kernelspec": {
   "display_name": "Python 3",
   "language": "python",
   "name": "python3"
  },
  "language_info": {
   "codemirror_mode": {
    "name": "ipython",
    "version": 3
   },
   "file_extension": ".py",
   "mimetype": "text/x-python",
   "name": "python",
   "nbconvert_exporter": "python",
   "pygments_lexer": "ipython3",
   "version": "3.7.4"
  }
 },
 "nbformat": 4,
 "nbformat_minor": 2
}
